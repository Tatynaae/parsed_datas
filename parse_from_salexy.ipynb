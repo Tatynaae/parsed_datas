{
  "nbformat": 4,
  "nbformat_minor": 0,
  "metadata": {
    "colab": {
      "provenance": [],
      "include_colab_link": true
    },
    "kernelspec": {
      "name": "python3",
      "display_name": "Python 3"
    },
    "language_info": {
      "name": "python"
    }
  },
  "cells": [
    {
      "cell_type": "markdown",
      "metadata": {
        "id": "view-in-github",
        "colab_type": "text"
      },
      "source": [
        "<a href=\"https://colab.research.google.com/github/Tatynaae/parsed_datas/blob/main/parse_from_salexy.ipynb\" target=\"_parent\"><img src=\"https://colab.research.google.com/assets/colab-badge.svg\" alt=\"Open In Colab\"/></a>"
      ]
    },
    {
      "cell_type": "code",
      "execution_count": 1,
      "metadata": {
        "id": "hWfob793-1BK"
      },
      "outputs": [],
      "source": [
        "from bs4 import BeautifulSoup"
      ]
    },
    {
      "cell_type": "code",
      "source": [
        "!pip3 install bs4"
      ],
      "metadata": {
        "colab": {
          "base_uri": "https://localhost:8080/"
        },
        "id": "gkPAAOSSACG5",
        "outputId": "4d48af78-753d-49d3-fe89-d362b469e1d8"
      },
      "execution_count": 2,
      "outputs": [
        {
          "output_type": "stream",
          "name": "stdout",
          "text": [
            "Collecting bs4\n",
            "  Downloading bs4-0.0.1.tar.gz (1.1 kB)\n",
            "  Preparing metadata (setup.py) ... \u001b[?25l\u001b[?25hdone\n",
            "Requirement already satisfied: beautifulsoup4 in /usr/local/lib/python3.10/dist-packages (from bs4) (4.11.2)\n",
            "Requirement already satisfied: soupsieve>1.2 in /usr/local/lib/python3.10/dist-packages (from beautifulsoup4->bs4) (2.5)\n",
            "Building wheels for collected packages: bs4\n",
            "  Building wheel for bs4 (setup.py) ... \u001b[?25l\u001b[?25hdone\n",
            "  Created wheel for bs4: filename=bs4-0.0.1-py3-none-any.whl size=1257 sha256=9341e8f441d790bfa45de3c4be157977f868cfc86fc342704cc1ab51bf6f6379\n",
            "  Stored in directory: /root/.cache/pip/wheels/25/42/45/b773edc52acb16cd2db4cf1a0b47117e2f69bb4eb300ed0e70\n",
            "Successfully built bs4\n",
            "Installing collected packages: bs4\n",
            "Successfully installed bs4-0.0.1\n"
          ]
        }
      ]
    },
    {
      "cell_type": "code",
      "source": [
        "import requests"
      ],
      "metadata": {
        "id": "fcOr9hE0_-nB"
      },
      "execution_count": 3,
      "outputs": []
    },
    {
      "cell_type": "code",
      "source": [
        "import openpyxl"
      ],
      "metadata": {
        "id": "_fChFV1eE1w1"
      },
      "execution_count": 4,
      "outputs": []
    },
    {
      "cell_type": "code",
      "source": [
        "url = 'https://salexy.kg/osh/nedvizhimost/uchastki'"
      ],
      "metadata": {
        "id": "UwWAhgRiAKVK"
      },
      "execution_count": 5,
      "outputs": []
    },
    {
      "cell_type": "code",
      "source": [
        "response = requests.get(url)\n",
        "print(response)"
      ],
      "metadata": {
        "colab": {
          "base_uri": "https://localhost:8080/"
        },
        "id": "AhF-rd9QALa6",
        "outputId": "b730450d-41ee-4435-d0d1-96f8738bce55"
      },
      "execution_count": 6,
      "outputs": [
        {
          "output_type": "stream",
          "name": "stdout",
          "text": [
            "<Response [200]>\n"
          ]
        }
      ]
    },
    {
      "cell_type": "code",
      "source": [
        "from bs4 import BeautifulSoup\n",
        "import requests\n",
        "\n",
        "# Define the URL to scrape\n",
        "url = 'https://salexy.kg/osh/nedvizhimost/uchastki'\n",
        "\n",
        "# Send an HTTP GET request to the URL\n",
        "response = requests.get(url)\n",
        "\n",
        "# Check if the request was successful (status code 200)\n",
        "if response.status_code == 200:\n",
        "    # Parse the HTML content of the page\n",
        "    soup = BeautifulSoup(response.text, 'html.parser')\n",
        "\n",
        "    # Find all elements with class 'price'\n",
        "    prices = soup.find_all('div', class_='price')\n",
        "\n",
        "    # Find all elements with class 'properties' and extract the text from nested spans\n",
        "    descriptions = []\n",
        "    property_divs = soup.find_all('div', class_='properties')\n",
        "    for div in property_divs:\n",
        "        spans = div.find_all('span')\n",
        "        description = ' '.join(span.text for span in spans)\n",
        "        descriptions.append(description)\n",
        "\n",
        "    # Check if there's a price for each description and print them on the same line\n",
        "    for i in range(len(prices)):\n",
        "        if i < len(descriptions):\n",
        "            print('description:', descriptions[i], \",\")\n",
        "            print(prices[i].text.strip())\n",
        "        else:\n",
        "            print('Length mismatch between prices and descriptions lists.')\n",
        "else:\n",
        "    print('Failed to retrieve the webpage.')\n"
      ],
      "metadata": {
        "colab": {
          "base_uri": "https://localhost:8080/"
        },
        "id": "0cakeAxzQE3p",
        "outputId": "610afc0f-7bcc-4e52-e3f3-72b109a3a681"
      },
      "execution_count": 53,
      "outputs": [
        {
          "output_type": "stream",
          "name": "stdout",
          "text": [
            "description: Площадь, м2: 6,00; Земля: Промназначения; С/у курманжан датка, село Асан-Чек ,\n",
            "40 KGS\n",
            "description: Земля: Сельхозназначения (СНТ, ДНТ); Ош шаарга караштуу, Кен-Сай массивинде.Ориентир:Жапалак ,\n",
            "\n",
            "description: Земля: Поселения (ИЖС); Ул. Суркеева, село Курманжан Датка, Асанчек айыл. Ошская область ,\n",
            "\n",
            "description: Площадь, м2: 500,00; Земля: Поселения (ИЖС); Ош ш, кенеш ,\n",
            "1 500 000 KGS\n",
            "description: Земля: Поселения (ИЖС); ,\n",
            "1 320 000 KGS\n",
            "description: Земля: Поселения (ИЖС); г.ош 225квартал жил массив Керме ТОО ,\n",
            "1 848 000 KGS\n",
            "description: Земля: Поселения (ИЖС); г.Ош, жил массив Керме-Тоо, 225-й квартал. ,\n",
            "\n",
            "description: Площадь, м2: 400,00; Земля: Поселения (ИЖС); г.Ош, ул.Т.Сатылганова ,\n",
            "4 000 000 KGS\n",
            "description: Площадь, м2: 500,00; Земля: Поселения (ИЖС); город Ош, Фуркат ,\n",
            "2 037 500 KGS\n",
            "description: Площадь, м2: 6 000,00; Земля: Промназначения; Ош шаары Массив Кең сай ,\n",
            "\n",
            "description: Площадь, м2: 6,00; Земля: Промназначения; Массив Кең сай Ош ,\n",
            "500 000 KGS\n",
            "description: Площадь, м2: 6,00; Земля: Промназначения; Массив Кең сай ,\n",
            "500 000 KGS\n",
            "description: Площадь, м2: 6,00; Земля: Промназначения; Кең сай ,\n",
            "500 000 KGS\n",
            "description: Земля: Поселения (ИЖС); Гульбар ,\n",
            "700 000 KGS\n",
            "description: Площадь, м2: 6,00; Земля: Промназначения; Жапалак ,\n",
            "1 400 000 KGS\n",
            "description: Земля: Поселения (ИЖС); ,\n",
            "500 000 KGS\n",
            "description: Площадь, м2: 20,00; Земля: Поселения (ИЖС); мкр Эдельвейс ,\n",
            "1 617 000 KGS\n",
            "description: Земля: Поселения (ИЖС); Супаналиева ,\n",
            "\n",
            "description: Земля: Поселения (ИЖС); ,\n",
            "25 000 KGS\n",
            "description: Земля: Поселения (ИЖС); ,\n",
            "\n",
            "description: Площадь, м2: 60,00; Земля: Сельхозназначения (СНТ, ДНТ); Фуркат, Кыргыз чек айылы. ,\n",
            "\n",
            "description: Земля: Поселения (ИЖС); ,\n",
            "30 000 KGS\n",
            "description: Земля: Поселения (ИЖС); ,\n",
            "450 000 KGS\n",
            "description: Земля: Поселения (ИЖС); ,\n",
            "1 400 KGS\n",
            "Length mismatch between prices and descriptions lists.\n",
            "Length mismatch between prices and descriptions lists.\n",
            "Length mismatch between prices and descriptions lists.\n",
            "Length mismatch between prices and descriptions lists.\n",
            "Length mismatch between prices and descriptions lists.\n",
            "Length mismatch between prices and descriptions lists.\n"
          ]
        }
      ]
    },
    {
      "cell_type": "code",
      "source": [
        "import requests\n",
        "from bs4 import BeautifulSoup\n",
        "\n",
        "url = 'https://salexy.kg/osh/nedvizhimost/uchastki'\n",
        "\n",
        "# Send an HTTP GET request to the URL\n",
        "response = requests.get(url)\n",
        "\n",
        "# Check if the request was successful (status code 200)\n",
        "if response.status_code == 200:\n",
        "    # Parse the HTML content of the page\n",
        "    soup = BeautifulSoup(response.text, 'html.parser')\n",
        "\n",
        "    # Find all elements with class 'price'\n",
        "    prices = soup.find_all('div', class_='price')\n",
        "\n",
        "    # Find all elements with class 'properties' and extract the text from nested spans\n",
        "    descriptions = []\n",
        "    property_divs = soup.find_all('div', class_='properties')\n",
        "    for div in property_divs:\n",
        "        spans = div.find_all('span')\n",
        "        description = ' '.join(span.text for span in spans)\n",
        "        descriptions.append(description)\n",
        "\n",
        "    # Check if there's a price for each description and print accordingly\n",
        "    for i in range(len(prices)):\n",
        "        if i < len(descriptions):\n",
        "            # description = descriptions[i]\n",
        "            price = prices[i].text.strip()\n",
        "            if price:\n",
        "                print( price)\n",
        "            else:\n",
        "                print('no price')\n",
        "        else:\n",
        "            print('Length mismatch between prices and descriptions lists.')\n",
        "else:\n",
        "    print('Failed to retrieve the webpage.')\n"
      ],
      "metadata": {
        "colab": {
          "base_uri": "https://localhost:8080/"
        },
        "id": "9OLmYza2WuxV",
        "outputId": "309acd10-68dd-4202-d2da-7f27f621c289"
      },
      "execution_count": 51,
      "outputs": [
        {
          "output_type": "stream",
          "name": "stdout",
          "text": [
            "40 KGS\n",
            "no price\n",
            "no price\n",
            "1 500 000 KGS\n",
            "1 320 000 KGS\n",
            "1 848 000 KGS\n",
            "no price\n",
            "4 000 000 KGS\n",
            "2 037 500 KGS\n",
            "no price\n",
            "500 000 KGS\n",
            "500 000 KGS\n",
            "500 000 KGS\n",
            "700 000 KGS\n",
            "1 400 000 KGS\n",
            "500 000 KGS\n",
            "1 617 000 KGS\n",
            "no price\n",
            "25 000 KGS\n",
            "no price\n",
            "no price\n",
            "30 000 KGS\n",
            "450 000 KGS\n",
            "1 400 KGS\n",
            "Length mismatch between prices and descriptions lists.\n",
            "Length mismatch between prices and descriptions lists.\n",
            "Length mismatch between prices and descriptions lists.\n",
            "Length mismatch between prices and descriptions lists.\n",
            "Length mismatch between prices and descriptions lists.\n",
            "Length mismatch between prices and descriptions lists.\n"
          ]
        }
      ]
    },
    {
      "cell_type": "code",
      "source": [
        "import openpyxl\n",
        "\n",
        "# Your data\n",
        "descriptions = [\n",
        "    'Площадь, м2: 6,00; Земля: Промназначения; С/у курманжан датка, село Асан-Чек' ,\n",
        "   'Земля: Сельхозназначения (СНТ, ДНТ); Ош шаарга караштуу, Кен-Сай массивинде.Ориентир:Жапалак' ,\n",
        "    \"Земля: Поселения (ИЖС); Ул. Суркеева, село Курманжан Датка, Асанчек айыл. Ошская область\" ,\n",
        "    \"Площадь, м2: 500,00; Земля: Поселения (ИЖС); Ош ш, кенеш\" ,\n",
        "    \"Земля: Поселения (ИЖС);\" ,\n",
        "     \"Земля: Поселения (ИЖС); г.ош 225квартал жил массив Керме ТОО\" ,\n",
        "     \"Земля: Поселения (ИЖС); г.Ош, жил массив Керме-Тоо, 225-й квартал.\" ,\n",
        "     \"Площадь, м2: 400,00; Земля: Поселения (ИЖС); г.Ош, ул.Т.Сатылганова\" ,\n",
        "   \"Площадь, м2: 500,00; Земля: Поселения (ИЖС); город Ош, Фуркат\" ,\n",
        "   \"Площадь, м2: 6 000,00; Земля: Промназначения; Ош шаары Массив Кең сай\" ,\n",
        "     \"Площадь, м2: 6,00; Земля: Промназначения; Массив Кең сай Ош\" ,\n",
        "     \"Площадь, м2: 6,00; Земля: Промназначения; Массив Кең сай\" ,\n",
        "     \"Площадь, м2: 6,00; Земля: Промназначения; Кең сай\" ,\n",
        "    \"Земля: Поселения (ИЖС); Гульбар\" ,\n",
        "     \"Площадь, м2: 6,00; Земля: Промназначения; Жапалак\" ,\n",
        "     \"Земля: Поселения (ИЖС);\" ,\n",
        "     \"Площадь, м2: 20,00; Земля: Поселения (ИЖС); мкр Эдельвейс\" ,\n",
        "     \"Земля: Поселения (ИЖС); Супаналиева\" ,\n",
        "     \"Земля: Поселения (ИЖС);\" ,\n",
        "    \"Земля: Поселения (ИЖС);\" ,\n",
        "    \"Площадь, м2: 60,00; Земля: Сельхозназначения (СНТ, ДНТ); Фуркат, Кыргыз чек айылы.\" ,\n",
        "    \"Земля: Поселения (ИЖС);\" ,\n",
        "   \"Земля: Поселения (ИЖС); \",\n",
        "    \"Земля: Поселения (ИЖС);\"\n",
        "    ]\n",
        "\n",
        "prices = [\n",
        "    '40 KGS',\n",
        "'no price',\n",
        "'no price',\n",
        "'1 500 000 KGS',\n",
        "'1 320 000 KGS',\n",
        "'1 848 000 KGS',\n",
        "'no price',\n",
        "'4 000 000 KGS',\n",
        "'2 037 500 KGS',\n",
        "'no price',\n",
        "'500 000 KGS',\n",
        "'500 000 KGS',\n",
        "'500 000 KGS',\n",
        "'700 000 KGS',\n",
        "'1 400 000 KGS',\n",
        "'500 000 KGS',\n",
        "'1 617 000 KGS',\n",
        "'no price',\n",
        "'25 000 KGS',\n",
        "'no price',\n",
        "'no price',\n",
        "'30 000 KGS',\n",
        "'450 000 KGS',\n",
        "'1 400 KGS',\n",
        "]\n",
        "print(len(prices), len(descriptions))\n",
        "# Create a new Excel workbook\n",
        "workbook = openpyxl.Workbook()\n",
        "\n",
        "# Create a new worksheet in the workbook\n",
        "worksheet = workbook.active\n",
        "\n",
        "# Write headers to the worksheet\n",
        "worksheet['A1'] = \"Description\"\n",
        "worksheet['B1'] = \"Price\"\n",
        "\n",
        "# Write data to the worksheet\n",
        "for i in range(len(descriptions)):\n",
        "    worksheet.cell(row=i + 2, column=1, value=descriptions[i])\n",
        "    worksheet.cell(row=i + 2, column=2, value=prices[i])\n",
        "\n",
        "# Save the workbook to an Excel file\n",
        "workbook.save(\"scraped_data.xlsx\")\n",
        "print(\"Data saved to 'scraped_data.xlsx'\")\n"
      ],
      "metadata": {
        "colab": {
          "base_uri": "https://localhost:8080/"
        },
        "id": "mOSKL82NU49X",
        "outputId": "6e4ca75a-db65-4c67-ef96-25ec3161deab"
      },
      "execution_count": 52,
      "outputs": [
        {
          "output_type": "stream",
          "name": "stdout",
          "text": [
            "24 24\n",
            "Data saved to 'scraped_data.xlsx'\n"
          ]
        }
      ]
    }
  ]
}