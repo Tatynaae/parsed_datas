{
  "nbformat": 4,
  "nbformat_minor": 0,
  "metadata": {
    "colab": {
      "provenance": [],
      "include_colab_link": true
    },
    "kernelspec": {
      "name": "python3",
      "display_name": "Python 3"
    },
    "language_info": {
      "name": "python"
    }
  },
  "cells": [
    {
      "cell_type": "markdown",
      "metadata": {
        "id": "view-in-github",
        "colab_type": "text"
      },
      "source": [
        "<a href=\"https://colab.research.google.com/github/Tatynaae/parsed_datas/blob/main/parse_from_detail_and_save.ipynb\" target=\"_parent\"><img src=\"https://colab.research.google.com/assets/colab-badge.svg\" alt=\"Open In Colab\"/></a>"
      ]
    },
    {
      "cell_type": "code",
      "execution_count": null,
      "metadata": {
        "id": "hWfob793-1BK"
      },
      "outputs": [],
      "source": [
        "from bs4 import BeautifulSoup"
      ]
    },
    {
      "cell_type": "code",
      "source": [
        "!pip3 install bs4"
      ],
      "metadata": {
        "colab": {
          "base_uri": "https://localhost:8080/"
        },
        "id": "gkPAAOSSACG5",
        "outputId": "df383475-eddc-4e90-d939-79d6365e4dd6"
      },
      "execution_count": null,
      "outputs": [
        {
          "output_type": "stream",
          "name": "stdout",
          "text": [
            "Collecting bs4\n",
            "  Downloading bs4-0.0.1.tar.gz (1.1 kB)\n",
            "  Preparing metadata (setup.py) ... \u001b[?25l\u001b[?25hdone\n",
            "Requirement already satisfied: beautifulsoup4 in /usr/local/lib/python3.10/dist-packages (from bs4) (4.11.2)\n",
            "Requirement already satisfied: soupsieve>1.2 in /usr/local/lib/python3.10/dist-packages (from beautifulsoup4->bs4) (2.5)\n",
            "Building wheels for collected packages: bs4\n",
            "  Building wheel for bs4 (setup.py) ... \u001b[?25l\u001b[?25hdone\n",
            "  Created wheel for bs4: filename=bs4-0.0.1-py3-none-any.whl size=1257 sha256=e41f2522aca12d9ba0ef5278df3b9a433379554248ad6993897167e69f40c5e3\n",
            "  Stored in directory: /root/.cache/pip/wheels/25/42/45/b773edc52acb16cd2db4cf1a0b47117e2f69bb4eb300ed0e70\n",
            "Successfully built bs4\n",
            "Installing collected packages: bs4\n",
            "Successfully installed bs4-0.0.1\n"
          ]
        }
      ]
    },
    {
      "cell_type": "code",
      "source": [
        "import requests"
      ],
      "metadata": {
        "id": "fcOr9hE0_-nB"
      },
      "execution_count": null,
      "outputs": []
    },
    {
      "cell_type": "code",
      "source": [
        "import openpyxl"
      ],
      "metadata": {
        "id": "_fChFV1eE1w1"
      },
      "execution_count": null,
      "outputs": []
    },
    {
      "cell_type": "code",
      "source": [
        "url = 'https://lalafo.kg/osh/zemelnye-uchastki/prodazha-zemli'"
      ],
      "metadata": {
        "id": "UwWAhgRiAKVK"
      },
      "execution_count": null,
      "outputs": []
    },
    {
      "cell_type": "code",
      "source": [
        "response = requests.get(url)\n",
        "print(response)"
      ],
      "metadata": {
        "colab": {
          "base_uri": "https://localhost:8080/"
        },
        "id": "AhF-rd9QALa6",
        "outputId": "0ef08530-43bc-4e00-ff98-77a1aa30478c"
      },
      "execution_count": null,
      "outputs": [
        {
          "output_type": "stream",
          "name": "stdout",
          "text": [
            "<Response [200]>\n"
          ]
        }
      ]
    },
    {
      "cell_type": "code",
      "source": [
        "!pip install openpyxl\n",
        "!pip install pandas\n",
        "!pip install beautifulsoup4\n",
        "\n",
        "import openpyxl\n",
        "from bs4 import BeautifulSoup\n",
        "import requests\n",
        "import pandas as pd\n",
        "\n",
        "url = 'https://lalafo.kg/osh/zemelnye-uchastki/prodazha-zemli'\n",
        "response = requests.get(url)\n",
        "\n",
        "if response.status_code == 200:\n",
        "    soup = BeautifulSoup(response.content, 'html.parser')\n",
        "    a_tags = soup.find_all('a')\n",
        "    p_tags = soup.find_all('p')\n",
        "\n",
        "    data = []\n",
        "\n",
        "    for a_tag, p_tag in zip(a_tags, p_tags):\n",
        "        title = a_tag.get_text()\n",
        "        price = p_tag.get_text()\n",
        "        data.append({'Title': title, 'Price': price})\n",
        "\n",
        "    # Create a DataFrame from the collected data\n",
        "    df = pd.DataFrame(data)\n",
        "\n",
        "    # Save the DataFrame to an Excel file\n",
        "    df.to_excel('parsed_data.xlsx', index=False)\n",
        "    print(\"Data saved to 'parsed_data.xlsx'.\")\n",
        "else:\n",
        "    print(f\"Failed to retrieve the page. Status code: {response.status_code}\")\n"
      ],
      "metadata": {
        "colab": {
          "base_uri": "https://localhost:8080/"
        },
        "id": "YThSc3T_Kr3j",
        "outputId": "e56f12c7-cbe1-4054-a686-03522ced685f"
      },
      "execution_count": null,
      "outputs": [
        {
          "output_type": "stream",
          "name": "stdout",
          "text": [
            "Requirement already satisfied: openpyxl in /usr/local/lib/python3.10/dist-packages (3.1.2)\n",
            "Requirement already satisfied: et-xmlfile in /usr/local/lib/python3.10/dist-packages (from openpyxl) (1.1.0)\n",
            "Requirement already satisfied: pandas in /usr/local/lib/python3.10/dist-packages (1.5.3)\n",
            "Requirement already satisfied: python-dateutil>=2.8.1 in /usr/local/lib/python3.10/dist-packages (from pandas) (2.8.2)\n",
            "Requirement already satisfied: pytz>=2020.1 in /usr/local/lib/python3.10/dist-packages (from pandas) (2023.3.post1)\n",
            "Requirement already satisfied: numpy>=1.21.0 in /usr/local/lib/python3.10/dist-packages (from pandas) (1.23.5)\n",
            "Requirement already satisfied: six>=1.5 in /usr/local/lib/python3.10/dist-packages (from python-dateutil>=2.8.1->pandas) (1.16.0)\n",
            "Requirement already satisfied: beautifulsoup4 in /usr/local/lib/python3.10/dist-packages (4.11.2)\n",
            "Requirement already satisfied: soupsieve>1.2 in /usr/local/lib/python3.10/dist-packages (from beautifulsoup4) (2.5)\n",
            "Data saved to 'parsed_data.xlsx'.\n"
          ]
        }
      ]
    },
    {
      "cell_type": "code",
      "source": [
        "url = 'https://lalafo.kg/osh/zemelnye-uchastki/prodazha-zemli'\n",
        "response = requests.get(url)\n",
        "if response.status_code == 200:\n",
        "    soup = BeautifulSoup(response.content, 'html.parser')\n",
        "    a_tags = soup.find_all('a')\n",
        "    data_links = []\n",
        "    for a_tag in a_tags:\n",
        "        a_href = a_tag.get('href')\n",
        "        if a_href and 'user' not in a_href:\n",
        "            full_link = 'https://lalafo.kg' + a_href\n",
        "            if full_link not in data_links:\n",
        "                data_links.append(full_link)\n",
        "    print(data_links)\n",
        "else:\n",
        "    print(f\"Failed to retrieve the page. Status code: {response.status_code}\")\n"
      ],
      "metadata": {
        "colab": {
          "base_uri": "https://localhost:8080/"
        },
        "id": "k7mM5lJ8_nMN",
        "outputId": "5418617d-7f9b-42bf-c3b3-33b125db8108"
      },
      "execution_count": null,
      "outputs": [
        {
          "output_type": "stream",
          "name": "stdout",
          "text": [
            "['https://lalafo.kg/osh/ads/srocno-prodaetsa-torg-est-id-53523510', 'https://lalafo.kg/osh/ads/os-saarykara-kulza-rajonuna-id-103257284', 'https://lalafo.kg/osh/ads/ucastok-satylat-35-sotyh2-komnata-id-103499348', 'https://lalafo.kg/osh/ads/prodau-ucastok-3-sotok-13-prelegausaa-id-83307855', 'https://lalafo.kg/osh/ads/6-sotok-dla-stroitelstva-doma-id-87913358', 'https://lalafo.kg/osh/ads/prodautsa-zemelnye-ucastki-v-gos-ken-id-85052413', 'https://lalafo.kg/osh/ads/kyzyl-bajrakta-zer-satylat-id-96962199', 'https://lalafo.kg/osh/ads/ucastok-satylat-id-54211109', 'https://lalafo.kg/osh/ads/glbaar-ke-saj-massivinen-zer-ucastok-satylat-id-51374430', 'https://lalafo.kg/osh/ads/prodau-zemelnyj-ucastok-6-sotdla-id-69157412', 'https://lalafo.kg/osh/ads/60-sotok-dla-stroitelstva-srocnaa-prodaza-krasnaa-kniga-dogovor-kupli-prodazi-id-63741102', 'https://lalafo.kg/osh/ads/assaloom-alejkumtuugandarkyrgyz-cek-id-57370907', 'https://lalafo.kg/osh/ads/ak-zar-konusunan-zer-tilkesi-satylat-06-sotyh-600000-kemi-bar-id-46502679', 'https://lalafo.kg/osh/ads/6-sotok-dla-stroitelstva-srocnaa-prodaza-krasnaa-kniga-id-86926054', 'https://lalafo.kg/osh/ads/5-sotok-dla-biznesa-sobstvennik-krasnaa-kniga-dogovor-kupli-prodazi-id-45582788', 'https://lalafo.kg/osh/ads/iskaban-ajylynan-zer-satylat-6-sot-suu-svet-bar-saardan-2-km-id-86184366', 'https://lalafo.kg/osh/ads/11-sotok-srocnaa-prodaza-krasnaa-kniga-id-99601351', 'https://lalafo.kg/osh/ads/os-saarynan-3km-kyzyl-bajrak-ajylynda-6-id-89894174', 'https://lalafo.kg/osh/ads/12-sotok-dla-stroitelstva-sobstvennik-krasnaa-kniga-id-54676192', 'https://lalafo.kg/osh/ads/5-sotok-dla-stroitelstva-rieltoram-ne-bespokoit-krasnaa-kniga-id-61011091', 'https://lalafo.kg/osh/ads/prodau-zemelnye-ucastki-po-6-sotok-id-67462129', 'https://lalafo.kg/osh/ads/6-sotok-dla-stroitelstva-vozmozen-obmen-krasnaa-kniga-id-73988992', 'https://lalafo.kg/osh/ads/4-sotok-dla-stroitelstva-srocnaa-prodaza-krasnaa-kniga-id-56482331', 'https://lalafo.kg/osh/ads/6-sotok-dla-stroitelstva-srocnaa-prodaza-krasnaa-kniga-id-54592181', 'https://lalafo.kg/osh/ads/ulus-zer-satylat-22-sotok-cena-dogovornaa-id-37977267', 'https://lalafo.kg/osh/ads/5-sotok-dla-stroitelstva-srocnaa-prodaza-krasnaa-kniga-id-96664632', 'https://lalafo.kg/osh/ads/prodau-zemelnyj-ucastok-v-g-id-88316386', 'https://lalafo.kg/osh/ads/bb-id-45927033', 'https://lalafo.kg/osh/ads/6-sotok-dla-stroitelstva-srocnaa-prodaza-krasnaa-kniga-id-80210261', 'https://lalafo.kg/osh/ads/srocno-prodaetsa-zem-ucastok-6-sotok-id-98879991', 'https://lalafo.kg/osh/ads/os-oblastyna-karastuu-kara-suu-id-68600304', 'https://lalafo.kg/osh/ads/os-osaarga-karastu-ken-sajdan-6-sotik-tegiz-zer-satylat-id-98871554', 'https://lalafo.kg/osh/ads/3-sotok-dla-stroitelstva-srocnaa-prodaza-krasnaa-kniga-teh-pasport-id-45099716', 'https://lalafo.kg/osh/ads/esme-ajylynan-6-sotik-zer-satylatkyzyl-kitebi-bar-id-39246714', 'https://lalafo.kg/osh/ads/56-sotok-dla-stroitelstva-srocnaa-prodaza-teh-pasport-id-53818964', 'https://lalafo.kg/osh/ads/3-sotok-dla-stroitelstva-srocnaa-prodaza-krasnaa-kniga-id-54201479', 'https://lalafo.kg/kyrgyzned', 'https://lalafo.kg/osh/ads/srocno-prodau-zemelnyj-ucastok-6-id-66974397', 'https://lalafo.kg/osh/ads/ucastok-satylat-obmen-avto-i-baska-id-61505877', 'https://lalafo.kg/osh/zemelnye-uchastki/prodazha-zemli', 'https://lalafo.kg/osh/zemelnye-uchastki/prodazha-zemli?page=2', 'https://lalafo.kg/osh/zemelnye-uchastki/prodazha-zemli?page=3', 'https://lalafo.kg/osh/zemelnye-uchastki/prodazha-zemli?page=4', 'https://lalafo.kg/osh/zemelnye-uchastki/prodazha-zemli?page=5', 'https://lalafo.kg/osh/zemelnye-uchastki/prodazha-zemli?page=6', 'https://lalafo.kg/', 'https://lalafo.kg/kyrgyzstan', 'https://lalafo.kg/osh', 'https://lalafo.kg/osh/nedvizhimost', 'https://lalafo.kg/osh/zemelnye-uchastki', 'https://lalafo.kg/bishkek/zemelnye-uchastki/prodazha-zemli', 'https://lalafo.kg/ak-dzhol/zemelnye-uchastki/prodazha-zemli', 'https://lalafo.kg/ala-buka/zemelnye-uchastki/prodazha-zemli', 'https://lalafo.kg/ala-too/zemelnye-uchastki/prodazha-zemli', 'https://lalafo.kg/ges-2/zemelnye-uchastki/prodazha-zemli', 'https://lalafo.kg/aleksandrovka/zemelnye-uchastki/prodazha-zemli', 'https://lalafo.kg/almaluu/zemelnye-uchastki/prodazha-zemli', 'https://lalafo.kg/ananyevo/zemelnye-uchastki/prodazha-zemli', 'https://lalafo.kg/aravan/zemelnye-uchastki/prodazha-zemli', 'https://lalafo.kg/arashan/zemelnye-uchastki/prodazha-zemli', 'https://lalafo.kg/archaly/zemelnye-uchastki/prodazha-zemli', 'https://lalafo.kg/at-bashi/zemelnye-uchastki/prodazha-zemli', 'https://lalafo.kg/baet/zemelnye-uchastki/prodazha-zemli', 'https://lalafo.kg/baetov/zemelnye-uchastki/prodazha-zemli', 'https://lalafo.kg/bazar-korgon/zemelnye-uchastki/prodazha-zemli', 'https://lalafo.kg/bajtik/zemelnye-uchastki/prodazha-zemli', 'https://lalafo.kg/bakai-ata/zemelnye-uchastki/prodazha-zemli', 'https://lalafo.kg/baktuu-dolonotu/zemelnye-uchastki/prodazha-zemli', 'https://lalafo.kg/balykchi/zemelnye-uchastki/prodazha-zemli', 'https://lalafo.kg/batken/zemelnye-uchastki/prodazha-zemli', 'https://lalafo.kg/belovodskoe/zemelnye-uchastki/prodazha-zemli', 'https://lalafo.kg/besh-kyungej/zemelnye-uchastki/prodazha-zemli', 'https://lalafo.kg/birdik/zemelnye-uchastki/prodazha-zemli', 'https://lalafo.kg/bokonbaevo/zemelnye-uchastki/prodazha-zemli', 'https://lalafo.kg/bosteri/zemelnye-uchastki/prodazha-zemli', 'https://lalafo.kg/budennovka/zemelnye-uchastki/prodazha-zemli', 'https://lalafo.kg/bulan-sogottu/zemelnye-uchastki/prodazha-zemli', 'https://lalafo.kg/voenno-antonovka/zemelnye-uchastki/prodazha-zemli', 'https://lalafo.kg/gavrilovka/zemelnye-uchastki/prodazha-zemli', 'https://lalafo.kg/gornaya-maevka/zemelnye-uchastki/prodazha-zemli', 'https://lalafo.kg/grigoryevka/zemelnye-uchastki/prodazha-zemli', 'https://lalafo.kg/gulcha/zemelnye-uchastki/prodazha-zemli', 'https://lalafo.kg/ges-5/zemelnye-uchastki/prodazha-zemli', 'https://lalafo.kg/dzhal/zemelnye-uchastki/prodazha-zemli', 'https://lalafo.kg/dzhalal-abad/zemelnye-uchastki/prodazha-zemli', 'https://lalafo.kg/dzhany-dzher/zemelnye-uchastki/prodazha-zemli', 'https://lalafo.kg/dmitrievka/zemelnye-uchastki/prodazha-zemli', 'https://lalafo.kg/zharkynbayev/zemelnye-uchastki/prodazha-zemli', 'https://lalafo.kg/zarechnoe/zemelnye-uchastki/prodazha-zemli', 'https://lalafo.kg/zarya/zemelnye-uchastki/prodazha-zemli', 'https://lalafo.kg/ivanovka/zemelnye-uchastki/prodazha-zemli', 'https://lalafo.kg/isfana/zemelnye-uchastki/prodazha-zemli', 'https://lalafo.kg/ichke-bulun/zemelnye-uchastki/prodazha-zemli', 'https://lalafo.kg/kadamzhai/zemelnye-uchastki/prodazha-zemli', 'https://lalafo.kg/kaji-saiy/zemelnye-uchastki/prodazha-zemli', 'https://lalafo.kg/kaindy/zemelnye-uchastki/prodazha-zemli', 'https://lalafo.kg/kairma/zemelnye-uchastki/prodazha-zemli', 'https://lalafo.kg/kant/zemelnye-uchastki/prodazha-zemli', 'https://lalafo.kg/kanish-kiya/zemelnye-uchastki/prodazha-zemli', 'https://lalafo.kg/kara-balta/zemelnye-uchastki/prodazha-zemli', 'https://lalafo.kg/kara-kuldzha/zemelnye-uchastki/prodazha-zemli', 'https://lalafo.kg/kara-oy/zemelnye-uchastki/prodazha-zemli', 'https://lalafo.kg/kara-suu/zemelnye-uchastki/prodazha-zemli', 'https://lalafo.kg/kara-kul/zemelnye-uchastki/prodazha-zemli', 'https://lalafo.kg/karakol/zemelnye-uchastki/prodazha-zemli', 'https://lalafo.kg/kashat/zemelnye-uchastki/prodazha-zemli', 'https://lalafo.kg/kashka-suu/zemelnye-uchastki/prodazha-zemli', 'https://lalafo.kg/kemin/zemelnye-uchastki/prodazha-zemli', 'https://lalafo.kg/kerben/zemelnye-uchastki/prodazha-zemli', 'https://lalafo.kg/kirovskoe/zemelnye-uchastki/prodazha-zemli', 'https://lalafo.kg/kozhoyar/zemelnye-uchastki/prodazha-zemli', 'https://lalafo.kg/koj-tash/zemelnye-uchastki/prodazha-zemli', 'https://lalafo.kg/kok-dzhar/zemelnye-uchastki/prodazha-zemli', 'https://lalafo.kg/kok-oi/zemelnye-uchastki/prodazha-zemli', 'https://lalafo.kg/konstantinovka/zemelnye-uchastki/prodazha-zemli', 'https://lalafo.kg/korumdu/zemelnye-uchastki/prodazha-zemli', 'https://lalafo.kg/kochkor/zemelnye-uchastki/prodazha-zemli', 'https://lalafo.kg/kochkor-ata/zemelnye-uchastki/prodazha-zemli', 'https://lalafo.kg/krasnaya-rechka/zemelnye-uchastki/prodazha-zemli', 'https://lalafo.kg/kuntuu/zemelnye-uchastki/prodazha-zemli', 'https://lalafo.kg/kyzyl-adyr/zemelnye-uchastki/prodazha-zemli', 'https://lalafo.kg/kyzyl-kiya/zemelnye-uchastki/prodazha-zemli', 'https://lalafo.kg/kyzyl-suu/zemelnye-uchastki/prodazha-zemli', 'https://lalafo.kg/kyzyl-tuu/zemelnye-uchastki/prodazha-zemli', 'https://lalafo.kg/lebedinovka/zemelnye-uchastki/prodazha-zemli', 'https://lalafo.kg/leninskoe/zemelnye-uchastki/prodazha-zemli', 'https://lalafo.kg/lugovoe/zemelnye-uchastki/prodazha-zemli', 'https://lalafo.kg/maevka/zemelnye-uchastki/prodazha-zemli', 'https://lalafo.kg/malovodnoe/zemelnye-uchastki/prodazha-zemli', 'https://lalafo.kg/manas/zemelnye-uchastki/prodazha-zemli', 'https://lalafo.kg/massy/zemelnye-uchastki/prodazha-zemli', 'https://lalafo.kg/milyanfan/zemelnye-uchastki/prodazha-zemli', 'https://lalafo.kg/mihaiylovka/zemelnye-uchastki/prodazha-zemli', 'https://lalafo.kg/mykan/zemelnye-uchastki/prodazha-zemli', 'https://lalafo.kg/naryn/zemelnye-uchastki/prodazha-zemli', 'https://lalafo.kg/nizhnij-norus/zemelnye-uchastki/prodazha-zemli', 'https://lalafo.kg/novonikolaevka/zemelnye-uchastki/prodazha-zemli', 'https://lalafo.kg/novopavlovka/zemelnye-uchastki/prodazha-zemli', 'https://lalafo.kg/novopokrovka/zemelnye-uchastki/prodazha-zemli', 'https://lalafo.kg/nookat/zemelnye-uchastki/prodazha-zemli', 'https://lalafo.kg/norus/zemelnye-uchastki/prodazha-zemli', 'https://lalafo.kg/orlovka/zemelnye-uchastki/prodazha-zemli', 'https://lalafo.kg/orto-oruktu/zemelnye-uchastki/prodazha-zemli', 'https://lalafo.kg/orto-saiy/zemelnye-uchastki/prodazha-zemli', 'https://lalafo.kg/pokrovka/zemelnye-uchastki/prodazha-zemli', 'https://lalafo.kg/poltavka/zemelnye-uchastki/prodazha-zemli', 'https://lalafo.kg/prigorodnoe/zemelnye-uchastki/prodazha-zemli', 'https://lalafo.kg/pulgon/zemelnye-uchastki/prodazha-zemli', 'https://lalafo.kg/razdolnoe/zemelnye-uchastki/prodazha-zemli', 'https://lalafo.kg/sadovoe/zemelnye-uchastki/prodazha-zemli', 'https://lalafo.kg/selektsyonnoe/zemelnye-uchastki/prodazha-zemli', 'https://lalafo.kg/semenovka/zemelnye-uchastki/prodazha-zemli', 'https://lalafo.kg/sokuluk/zemelnye-uchastki/prodazha-zemli', 'https://lalafo.kg/sretenka/zemelnye-uchastki/prodazha-zemli', 'https://lalafo.kg/studencheskoe/zemelnye-uchastki/prodazha-zemli', 'https://lalafo.kg/suzak/zemelnye-uchastki/prodazha-zemli', 'https://lalafo.kg/sulyukta/zemelnye-uchastki/prodazha-zemli', 'https://lalafo.kg/talas/zemelnye-uchastki/prodazha-zemli', 'https://lalafo.kg/tamchy/zemelnye-uchastki/prodazha-zemli', 'https://lalafo.kg/tash-kumyr/zemelnye-uchastki/prodazha-zemli', 'https://lalafo.kg/tash-moiynok/zemelnye-uchastki/prodazha-zemli', 'https://lalafo.kg/temir/zemelnye-uchastki/prodazha-zemli', 'https://lalafo.kg/teploklyuchenka/zemelnye-uchastki/prodazha-zemli', 'https://lalafo.kg/toguz-bulak/zemelnye-uchastki/prodazha-zemli', 'https://lalafo.kg/tokmak/zemelnye-uchastki/prodazha-zemli', 'https://lalafo.kg/toktogul/zemelnye-uchastki/prodazha-zemli', 'https://lalafo.kg/tynchtyk/zemelnye-uchastki/prodazha-zemli', 'https://lalafo.kg/tyup/zemelnye-uchastki/prodazha-zemli', 'https://lalafo.kg/uzgen/zemelnye-uchastki/prodazha-zemli', 'https://lalafo.kg/chaek/zemelnye-uchastki/prodazha-zemli', 'https://lalafo.kg/chaldavar/zemelnye-uchastki/prodazha-zemli', 'https://lalafo.kg/chat-kyol/zemelnye-uchastki/prodazha-zemli', 'https://lalafo.kg/chok-tal/zemelnye-uchastki/prodazha-zemli', 'https://lalafo.kg/cholpon-ata/zemelnye-uchastki/prodazha-zemli', 'https://lalafo.kg/chon-sary-oy/zemelnye-uchastki/prodazha-zemli', 'https://lalafo.kg/chon-aryk/zemelnye-uchastki/prodazha-zemli', 'https://lalafo.kg/chon-daly/zemelnye-uchastki/prodazha-zemli', 'https://lalafo.kg/chon-tash/zemelnye-uchastki/prodazha-zemli', 'https://lalafo.kg/chunkurchak/zemelnye-uchastki/prodazha-zemli', 'https://lalafo.kg/shamaldy-say/zemelnye-uchastki/prodazha-zemli', 'https://lalafo.kg/shevchenko/zemelnye-uchastki/prodazha-zemli', 'https://lalafo.kg/shopokov/zemelnye-uchastki/prodazha-zemli', 'https://lalafo.kg/yurevka/zemelnye-uchastki/prodazha-zemli', 'https://lalafo.kg/pos-dachnyj/zemelnye-uchastki/prodazha-zemli', 'https://lalafo.kg/osh/transport', 'https://lalafo.kg/osh/uslugi', 'https://lalafo.kg/osh/dom-i-sad', 'https://lalafo.kg/osh/elektronika', 'https://lalafo.kg/osh/rabota', 'https://lalafo.kg/osh/lichnye-veshchi', 'https://lalafo.kg/osh/sport-i-khobbi', 'https://lalafo.kg/osh/zhivotnye-2', 'https://lalafo.kg/osh/oborudovanie-dlya-biznesa', 'https://lalafo.kg/osh/detskii-mir-2', 'https://lalafo.kg/osh/medical-supplies', 'https://lalafo.kg/osh/otdykh-na-issyk-kule', 'https://lalafo.kg/osh/otdam-darom', 'https://lalafo.kghttps://lalafo.az', 'https://lalafo.kghttps://lalafo.rs', 'https://lalafo.kghttps://lalafo.gr', 'https://lalafo.kghttps://lalafo.ua', 'https://lalafo.kghttps://lalafo.pl', 'https://lalafo.kghttps://lalafo.kg/osh/zemelnye-uchastki/prodazha-zemli', 'https://lalafo.kghttps://lalafo.kg/ky/osh/zemelnye-uchastki/prodazha-zemli', 'https://lalafo.kghttps://lalafo.kg/sitemap/city/osh', 'https://lalafo.kghttps://lalafo.kg/sitemap']\n"
          ]
        }
      ]
    },
    {
      "cell_type": "code",
      "source": [
        "from bs4 import BeautifulSoup\n",
        "import requests\n",
        "import pandas as pd\n",
        "\n",
        "def extract_description_text(url):\n",
        "    try:\n",
        "        response = requests.get(url)\n",
        "        response.raise_for_status()\n",
        "        soup = BeautifulSoup(response.text, \"html.parser\")\n",
        "\n",
        "        description_wrap = soup.find(\"div\", class_=\"description__wrap\")\n",
        "        prices = soup.find_all(\"span\", class_=\"heading price\")\n",
        "\n",
        "        # Check if there is at least one price associated with the description\n",
        "        if prices:\n",
        "            price_text = \", \".join([price.text for price in prices])\n",
        "        else:\n",
        "            price_text = \"No price found\"\n",
        "\n",
        "        if description_wrap:\n",
        "            p_tags = description_wrap.find_all(\"p\")\n",
        "            description_text = \" \".join([p.text for p in p_tags])\n",
        "        else:\n",
        "            description_text = \"Description not found\"\n",
        "\n",
        "        return {\"Link\": url, \"Price\": price_text, \"Description\": description_text}\n",
        "    except requests.exceptions.RequestException as e:\n",
        "        return {\"Link\": url, \"Price\": \"Error\", \"Description\": str(e)}\n",
        "\n",
        "data = []\n",
        "\n",
        "for link in data_links:\n",
        "    description_data = extract_description_text(link)\n",
        "    data.append(description_data)\n",
        "\n",
        "df = pd.DataFrame(data)\n",
        "df.to_excel(\"parsed_data.xlsx\", index=False)\n",
        "print(\"Data saved to 'parsed_data.xlsx'.\")\n"
      ],
      "metadata": {
        "id": "LjJvOu4yIx8Q"
      },
      "execution_count": null,
      "outputs": []
    }
  ]
}